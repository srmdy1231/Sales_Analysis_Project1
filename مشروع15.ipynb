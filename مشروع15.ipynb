{
  "nbformat": 4,
  "nbformat_minor": 0,
  "metadata": {
    "colab": {
      "provenance": []
    },
    "kernelspec": {
      "name": "python3",
      "display_name": "Python 3"
    },
    "language_info": {
      "name": "python"
    }
  },
  "cells": [
    {
      "cell_type": "code",
      "source": [
        "!pip install pandas numpy faker dash plotly scikit-learn"
      ],
      "metadata": {
        "colab": {
          "base_uri": "https://localhost:8080/"
        },
        "id": "nL-u7Sd2NAbh",
        "outputId": "308c2180-f281-425f-cf78-3878d83b8918"
      },
      "execution_count": 1,
      "outputs": [
        {
          "output_type": "stream",
          "name": "stdout",
          "text": [
            "Requirement already satisfied: pandas in /usr/local/lib/python3.11/dist-packages (2.2.2)\n",
            "Requirement already satisfied: numpy in /usr/local/lib/python3.11/dist-packages (2.0.2)\n",
            "Collecting faker\n",
            "  Downloading faker-37.4.2-py3-none-any.whl.metadata (15 kB)\n",
            "Collecting dash\n",
            "  Downloading dash-3.1.1-py3-none-any.whl.metadata (10 kB)\n",
            "Requirement already satisfied: plotly in /usr/local/lib/python3.11/dist-packages (5.24.1)\n",
            "Requirement already satisfied: scikit-learn in /usr/local/lib/python3.11/dist-packages (1.6.1)\n",
            "Requirement already satisfied: python-dateutil>=2.8.2 in /usr/local/lib/python3.11/dist-packages (from pandas) (2.9.0.post0)\n",
            "Requirement already satisfied: pytz>=2020.1 in /usr/local/lib/python3.11/dist-packages (from pandas) (2025.2)\n",
            "Requirement already satisfied: tzdata>=2022.7 in /usr/local/lib/python3.11/dist-packages (from pandas) (2025.2)\n",
            "Requirement already satisfied: Flask<3.2,>=1.0.4 in /usr/local/lib/python3.11/dist-packages (from dash) (3.1.1)\n",
            "Requirement already satisfied: Werkzeug<3.2 in /usr/local/lib/python3.11/dist-packages (from dash) (3.1.3)\n",
            "Requirement already satisfied: importlib-metadata in /usr/local/lib/python3.11/dist-packages (from dash) (8.7.0)\n",
            "Requirement already satisfied: typing-extensions>=4.1.1 in /usr/local/lib/python3.11/dist-packages (from dash) (4.14.1)\n",
            "Requirement already satisfied: requests in /usr/local/lib/python3.11/dist-packages (from dash) (2.32.3)\n",
            "Collecting retrying (from dash)\n",
            "  Downloading retrying-1.4.1-py3-none-any.whl.metadata (7.5 kB)\n",
            "Requirement already satisfied: nest-asyncio in /usr/local/lib/python3.11/dist-packages (from dash) (1.6.0)\n",
            "Requirement already satisfied: setuptools in /usr/local/lib/python3.11/dist-packages (from dash) (75.2.0)\n",
            "Requirement already satisfied: tenacity>=6.2.0 in /usr/local/lib/python3.11/dist-packages (from plotly) (8.5.0)\n",
            "Requirement already satisfied: packaging in /usr/local/lib/python3.11/dist-packages (from plotly) (25.0)\n",
            "Requirement already satisfied: scipy>=1.6.0 in /usr/local/lib/python3.11/dist-packages (from scikit-learn) (1.16.0)\n",
            "Requirement already satisfied: joblib>=1.2.0 in /usr/local/lib/python3.11/dist-packages (from scikit-learn) (1.5.1)\n",
            "Requirement already satisfied: threadpoolctl>=3.1.0 in /usr/local/lib/python3.11/dist-packages (from scikit-learn) (3.6.0)\n",
            "Requirement already satisfied: blinker>=1.9.0 in /usr/local/lib/python3.11/dist-packages (from Flask<3.2,>=1.0.4->dash) (1.9.0)\n",
            "Requirement already satisfied: click>=8.1.3 in /usr/local/lib/python3.11/dist-packages (from Flask<3.2,>=1.0.4->dash) (8.2.1)\n",
            "Requirement already satisfied: itsdangerous>=2.2.0 in /usr/local/lib/python3.11/dist-packages (from Flask<3.2,>=1.0.4->dash) (2.2.0)\n",
            "Requirement already satisfied: jinja2>=3.1.2 in /usr/local/lib/python3.11/dist-packages (from Flask<3.2,>=1.0.4->dash) (3.1.6)\n",
            "Requirement already satisfied: markupsafe>=2.1.1 in /usr/local/lib/python3.11/dist-packages (from Flask<3.2,>=1.0.4->dash) (3.0.2)\n",
            "Requirement already satisfied: six>=1.5 in /usr/local/lib/python3.11/dist-packages (from python-dateutil>=2.8.2->pandas) (1.17.0)\n",
            "Requirement already satisfied: zipp>=3.20 in /usr/local/lib/python3.11/dist-packages (from importlib-metadata->dash) (3.23.0)\n",
            "Requirement already satisfied: charset-normalizer<4,>=2 in /usr/local/lib/python3.11/dist-packages (from requests->dash) (3.4.2)\n",
            "Requirement already satisfied: idna<4,>=2.5 in /usr/local/lib/python3.11/dist-packages (from requests->dash) (3.10)\n",
            "Requirement already satisfied: urllib3<3,>=1.21.1 in /usr/local/lib/python3.11/dist-packages (from requests->dash) (2.5.0)\n",
            "Requirement already satisfied: certifi>=2017.4.17 in /usr/local/lib/python3.11/dist-packages (from requests->dash) (2025.7.14)\n",
            "Downloading faker-37.4.2-py3-none-any.whl (1.9 MB)\n",
            "\u001b[2K   \u001b[90m━━━━━━━━━━━━━━━━━━━━━━━━━━━━━━━━━━━━━━━━\u001b[0m \u001b[32m1.9/1.9 MB\u001b[0m \u001b[31m37.8 MB/s\u001b[0m eta \u001b[36m0:00:00\u001b[0m\n",
            "\u001b[?25hDownloading dash-3.1.1-py3-none-any.whl (7.9 MB)\n",
            "\u001b[2K   \u001b[90m━━━━━━━━━━━━━━━━━━━━━━━━━━━━━━━━━━━━━━━━\u001b[0m \u001b[32m7.9/7.9 MB\u001b[0m \u001b[31m40.4 MB/s\u001b[0m eta \u001b[36m0:00:00\u001b[0m\n",
            "\u001b[?25hDownloading retrying-1.4.1-py3-none-any.whl (12 kB)\n",
            "Installing collected packages: retrying, faker, dash\n",
            "Successfully installed dash-3.1.1 faker-37.4.2 retrying-1.4.1\n"
          ]
        }
      ]
    },
    {
      "cell_type": "code",
      "source": [
        "! pip install LinearRegression"
      ],
      "metadata": {
        "colab": {
          "base_uri": "https://localhost:8080/"
        },
        "id": "Rsie1KNNNz3F",
        "outputId": "846a8e85-d036-4723-96f9-7af5c9be22a1"
      },
      "execution_count": 2,
      "outputs": [
        {
          "output_type": "stream",
          "name": "stdout",
          "text": [
            "Collecting LinearRegression\n",
            "  Downloading LinearRegression-0.0.1-py3-none-any.whl.metadata (389 bytes)\n",
            "Downloading LinearRegression-0.0.1-py3-none-any.whl (2.7 kB)\n",
            "Installing collected packages: LinearRegression\n",
            "Successfully installed LinearRegression-0.0.1\n"
          ]
        }
      ]
    },
    {
      "cell_type": "code",
      "source": [
        "import pandas as pd\n",
        "import numpy as np\n",
        "from faker import Faker\n",
        "import random\n",
        "from sklearn.linear_model import LinearRegression\n",
        "from datetime import timedelta\n",
        "\n",
        "fake = Faker()\n",
        "np.random.seed(24)\n",
        "\n",
        "products = ['Phone', 'Dress', 'Headphones', 'Smartwatch' , 'Shoes']\n",
        "categories = ['Electronics', 'Clothing']\n",
        "regions = ['Riyadh' , 'Jeddah', 'Dammam', 'Mecca']\n",
        "channels = ['Website', 'App', 'Store']\n",
        "\n",
        "data = {\n",
        "    'Transaction ID': ['T' + str(i).zfill(3) for i in range(1, 301)],\n",
        "    'Date': pd.date_range(start='2025-01-01', end='2025-12-31', periods=300),\n",
        "    'Product': [random.choice(products) for _ in range(300)],\n",
        "    'Category': [random.choice(categories) for _ in range(300)],\n",
        "    'Quantity': np.random.randint(1, 20, 300),\n",
        "    'Unit Price': np.random.randint(50, 5000, 300),\n",
        "    'Region': [random.choice(regions) for _ in range(300)]\n",
        "}\n",
        "\n",
        "df = pd.DataFrame(data)\n",
        "df['Total Sales'] = df['Quantity'] * df['Unit Price']\n",
        "df['Month'] = df['Date'].dt.strftime('%B')\n",
        "\n",
        "from dash import Dash, dcc, html, Input, Output\n",
        "import plotly.express as px\n",
        "\n",
        "app = Dash(__name__)\n",
        "\n",
        "app.layout = html.Div([\n",
        "    html.H1('لوحة تحليل بيانات المبيعات مع الذكاء الاصطناعي', style={'textAlign': 'center', 'color': '#ffffff'}),\n",
        "    dcc.Dropdown(\n",
        "        id='region-filter',\n",
        "        options=[{'label': region, 'value': region} for region in df['Region'].unique()],\n",
        "        value=None,\n",
        "        placeholder='اختر المنطقة',\n",
        "        style={'width': '50%', 'margin': 'auto'}\n",
        "\n",
        "    ),\n",
        "    dcc.Graph(id='line-chart'),\n",
        "    dcc.Graph(id='bar-chart'),\n",
        "    dcc.Graph(id='pie-chart'),\n",
        "    dcc.Graph(id='prediction-chart')\n",
        "], style={'backgroundColor': '#1a1a1a', 'padding': '20px'})\n",
        "\n",
        "@app.callback(\n",
        "    [Output('line-chart', 'figure'),\n",
        "     Output('bar-chart', 'figure'),\n",
        "     Output('pie-chart', 'figure'),\n",
        "     Output('prediction-chart', 'figure')],\n",
        "    [Input('region-filter', 'value')]\n",
        ")\n",
        "\n",
        "def update_charts(region):\n",
        "    filtered_df = df if region is None else df[df['Region'] == region]\n",
        "\n",
        "    monthly_sales = filtered_df.groupby('Month')['Total Sales'].sum().reset_index()\n",
        "\n",
        "    month_order = ['January', 'February', 'March', 'April', 'May', 'June', 'July', 'August', 'September', 'October', 'November', 'December']\n",
        "    monthly_sales['Month'] = pd.Categorical(monthly_sales['Month'], categories=month_order, ordered=True)\n",
        "    monthly_sales = monthly_sales.sort_values('Month')\n",
        "\n",
        "    fig_line = px.line(monthly_sales, x='Month', y='Total Sales', title='اتجاه المبيعات الشهرية',\n",
        "                         labels={'Total Sales': ' اجمالي المبيعات(ريال)', 'Month': 'الشهر'})\n",
        "    fig_line.update_layout(template='plotly_dark')\n",
        "\n",
        "    product_sales = filtered_df.groupby('Product')['Total Sales'].sum().reset_index()\n",
        "    fig_bar = px.bar(product_sales, x='Product', y='Total Sales', title='اجمالي المبيعات لكل منتج',\n",
        "                     labels={'Total Sales': ' اجمالي المبيعات(ريال)', 'Product': 'المنتج'})\n",
        "    fig_bar.update_layout(template='plotly_dark')\n",
        "\n",
        "    category_sales = filtered_df.groupby('Category')['Total Sales'].sum().reset_index() # Corrected variable name\n",
        "    fig_pie = px.pie(category_sales, values='Total Sales', names='Category', title='نوزيع البيانات حسب الفئة')\n",
        "    fig_pie.update_layout(template='plotly_dark')\n",
        "\n",
        "    months_numeric = pd.to_datetime(monthly_sales['Month'], format='%B').map(lambda x: x.month)\n",
        "    X = months_numeric.values.reshape(-1, 1)\n",
        "    y = monthly_sales['Total Sales'].values\n",
        "    model = LinearRegression()\n",
        "    model.fit(X, y)\n",
        "\n",
        "\n",
        "    future_months_numeric = np.array(range(13, 25)).reshape(-1, 1)\n",
        "    predicted_sales = model.predict(future_months_numeric)\n",
        "\n",
        "\n",
        "    future_month_dates = pd.date_range(start='2026-01-01', periods=12, freq='M')\n",
        "    future_month_names = future_month_dates.strftime('%B')\n",
        "\n",
        "\n",
        "    future_df = pd.DataFrame({\n",
        "        'Month': future_month_names,\n",
        "        'Total Sales': predicted_sales\n",
        "    })\n",
        "\n",
        "    combined_df = pd.concat([monthly_sales, future_df])\n",
        "\n",
        "\n",
        "    fig_prediction = px.line(combined_df, x='Month', y='Total Sales', title='(2026-2025)تنبؤ المبيعات الشهرية',\n",
        "                             labels={'Total Sales': ' اجمالي المبيعات(ريال)', 'Month': 'الشهر'})\n",
        "    fig_prediction.add_scatter(x=future_df['Month'], y=future_df['Total Sales'], mode='lines', name='Predicted',\n",
        "                              line=dict(color='red', dash='dash'))\n",
        "    fig_prediction.update_layout(template='plotly_dark')\n",
        "\n",
        "\n",
        "    return fig_line, fig_bar, fig_pie, fig_prediction\n",
        "\n",
        "from google.colab.output import eval_js\n",
        "print(eval_js(\"google.colab.kernel.proxyPort(8050)\"))\n",
        "\n",
        "app.run(debug=True, host='0.0.0.0', port=8050)"
      ],
      "metadata": {
        "colab": {
          "base_uri": "https://localhost:8080/",
          "height": 689
        },
        "id": "yaLf1xM027PB",
        "outputId": "b3026614-6c6a-45eb-8c8a-4e745d6b85e4"
      },
      "execution_count": 3,
      "outputs": [
        {
          "output_type": "stream",
          "name": "stdout",
          "text": [
            "https://8050-m-s-3gl69r0ktn2gp-a.us-east4-0.prod.colab.dev\n"
          ]
        },
        {
          "output_type": "display_data",
          "data": {
            "text/plain": [
              "<IPython.core.display.Javascript object>"
            ],
            "application/javascript": [
              "(async (port, path, width, height, cache, element) => {\n",
              "    if (!google.colab.kernel.accessAllowed && !cache) {\n",
              "      return;\n",
              "    }\n",
              "    element.appendChild(document.createTextNode(''));\n",
              "    const url = await google.colab.kernel.proxyPort(port, {cache});\n",
              "    const iframe = document.createElement('iframe');\n",
              "    iframe.src = new URL(path, url).toString();\n",
              "    iframe.height = height;\n",
              "    iframe.width = width;\n",
              "    iframe.style.border = 0;\n",
              "    iframe.allow = [\n",
              "        'accelerometer',\n",
              "        'autoplay',\n",
              "        'camera',\n",
              "        'clipboard-read',\n",
              "        'clipboard-write',\n",
              "        'gyroscope',\n",
              "        'magnetometer',\n",
              "        'microphone',\n",
              "        'serial',\n",
              "        'usb',\n",
              "        'xr-spatial-tracking',\n",
              "    ].join('; ');\n",
              "    element.appendChild(iframe);\n",
              "  })(8050, \"/\", \"100%\", 650, false, window.element)"
            ]
          },
          "metadata": {}
        }
      ]
    },
    {
      "cell_type": "markdown",
      "source": [],
      "metadata": {
        "id": "4ZkDWVupGp-s"
      }
    }
  ]
}